{
  "nbformat": 4,
  "nbformat_minor": 0,
  "metadata": {
    "colab": {
      "provenance": []
    },
    "kernelspec": {
      "name": "python3",
      "display_name": "Python 3"
    },
    "language_info": {
      "name": "python"
    }
  },
  "cells": [
    {
      "cell_type": "code",
      "execution_count": 1,
      "metadata": {
        "colab": {
          "base_uri": "https://localhost:8080/"
        },
        "id": "xFCKT5PdxU99",
        "outputId": "a8751685-726b-4694-9b70-9e105c59acc6"
      },
      "outputs": [
        {
          "output_type": "stream",
          "name": "stdout",
          "text": [
            "[6, 5, 4, 3, 2]\n"
          ]
        }
      ],
      "source": [
        "a = [2, 3, 4, 5, 6]\n",
        "b = []\n",
        "for i in range (len(a)):\n",
        "  b.append(a.pop())\n",
        "\n",
        "print(b)"
      ]
    },
    {
      "cell_type": "code",
      "source": [],
      "metadata": {
        "id": "8IeNFsSpxqsh"
      },
      "execution_count": null,
      "outputs": []
    }
  ]
}