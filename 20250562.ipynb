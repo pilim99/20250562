{
  "nbformat": 4,
  "nbformat_minor": 0,
  "metadata": {
    "colab": {
      "provenance": []
    },
    "kernelspec": {
      "name": "python3",
      "display_name": "Python 3"
    },
    "language_info": {
      "name": "python"
    }
  },
  "cells": [
    {
      "cell_type": "code",
      "source": [
        "print(\"안경민\", \"010-8851-1187\", \"20살\")"
      ],
      "metadata": {
        "id": "rMIGQwmiZRk-"
      },
      "execution_count": null,
      "outputs": []
    },
    {
      "cell_type": "code",
      "source": [
        "print(\"안경민\", \"010-8851-1187\", \"20살\")"
      ],
      "metadata": {
        "id": "qqcyM4-OZyXm",
        "colab": {
          "base_uri": "https://localhost:8080/"
        },
        "outputId": "84039011-9d84-4e2c-92c6-909e6bf47ca0"
      },
      "execution_count": 7,
      "outputs": [
        {
          "output_type": "stream",
          "name": "stdout",
          "text": [
            "안경민 010-8851-1187 20살\n"
          ]
        }
      ]
    },
    {
      "cell_type": "code",
      "source": [],
      "metadata": {
        "id": "qr83GKWPZ3da"
      },
      "execution_count": null,
      "outputs": []
    }
  ]
}